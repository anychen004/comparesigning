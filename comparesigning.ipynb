{
  "nbformat": 4,
  "nbformat_minor": 0,
  "metadata": {
    "colab": {
      "name": "comparesigning.ipynb",
      "provenance": []
    },
    "kernelspec": {
      "name": "python3",
      "display_name": "Python 3"
    }
  },
  "cells": [
    {
      "cell_type": "code",
      "metadata": {
        "colab": {
          "resources": {
            "http://localhost:8080/nbextensions/google.colab/files.js": {
              "data": "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",
              "ok": true,
              "headers": [
                [
                  "content-type",
                  "application/javascript"
                ]
              ],
              "status": 200,
              "status_text": ""
            }
          },
          "base_uri": "https://localhost:8080/",
          "height": 72
        },
        "id": "aCmQ1v4qhVxh",
        "cellView": "form",
        "outputId": "49774185-e3f9-4a49-a77e-77e7632e7695"
      },
      "source": [
        "#@title\n",
        "import csv\n",
        "from google.colab import files\n",
        "import datetime\n",
        "from datetime import datetime\n",
        "import io\n",
        "\n",
        "def UploadFile():\n",
        "    \"\"\"Upload a file and return its content as an io string.\"\"\"\n",
        "    for fn in uploaded.keys():\n",
        "        content_str = uploaded[fn].decode(\"utf-8\")\n",
        "        return io.StringIO(content_str)\n",
        "\n",
        "def check(str1, str2, format_str):\n",
        "    \"\"\"Check if two strings are equal (based on format), or both are redacted.\"\"\"\n",
        "    try:\n",
        "        str1_conv = datetime.strptime(str1, format_str)\n",
        "        str2_conv = datetime.strptime(str2, format_str)\n",
        "        if str1_conv == str2_conv:\n",
        "            return True\n",
        "        else:\n",
        "            return False\n",
        "    except ValueError:\n",
        "        if str1 == str2:\n",
        "            return True  # both are redacted the same way, assume correct.\n",
        "        else:\n",
        "            return False \n",
        "\n",
        "\n",
        "def redactionated(date1, date2):\n",
        "    if date1 != \"(None entered)\" and date2 != \"(None Entered)\":\n",
        "        dated1 = date1.split(\"/\")\n",
        "        dated2 = date2.split(\"/\")\n",
        "        month_ok = check(dated1[0], dated2[0], '%m')\n",
        "        day_ok = check(dated1[1], dated2[1], '%d')\n",
        "        year_ok = check(dated1[2], dated2[2], '%Y')\n",
        "        if (month_ok and day_ok and year_ok):\n",
        "            return(\"OK\")\n",
        "        else:\n",
        "            return(\"spain\", date1, \"and\", date2)\n",
        "\n",
        "def comparesigning(date1, date2):\n",
        "    try:\n",
        "        dated1 = datetime.strptime(date1, '%d/%m/%Y')\n",
        "        dated2 = datetime.strptime(date2, '%d/%m/%Y')\n",
        "        if dated1 == dated2:\n",
        "            return(\"OK\")\n",
        "        else:\n",
        "            return(\"spain\", date1, \"and\", date2)\n",
        "    except ValueError:\n",
        "        return redactionated(date1, date2)\n",
        "\n",
        "uploaded = files.upload()"
      ],
      "execution_count": null,
      "outputs": [
        {
          "output_type": "display_data",
          "data": {
            "text/html": [
              "\n",
              "     <input type=\"file\" id=\"files-c4b16e9d-a844-4041-8765-f18877bd5f62\" name=\"files[]\" multiple disabled\n",
              "        style=\"border:none\" />\n",
              "     <output id=\"result-c4b16e9d-a844-4041-8765-f18877bd5f62\">\n",
              "      Upload widget is only available when the cell has been executed in the\n",
              "      current browser session. Please rerun this cell to enable.\n",
              "      </output>\n",
              "      <script src=\"/nbextensions/google.colab/files.js\"></script> "
            ],
            "text/plain": [
              "<IPython.core.display.HTML object>"
            ]
          },
          "metadata": {
            "tags": []
          }
        },
        {
          "output_type": "stream",
          "text": [
            "Saving mmmmm - Atticus Commercial Contracts-3.tsv to mmmmm - Atticus Commercial Contracts-3.tsv\n"
          ],
          "name": "stdout"
        }
      ]
    },
    {
      "cell_type": "code",
      "metadata": {
        "id": "mNBKMbg9iP2Q"
      },
      "source": [
        "#@title\n",
        "def UploadAndProcessFile():\n",
        "    reader = csv.DictReader(UploadFile(), delimiter='\\t')\n",
        "    count = 1\n",
        "    fout = open(\"lister.txt\", \"w\")\n",
        "    #========\n",
        "    for row in reader:\n",
        "        count += 1\n",
        "        print(count, comparesigning(row[\"agreement\"], row[\"effective\"]))\n",
        "    fout.close()\n",
        "\n",
        "UploadAndProcessFile()"
      ],
      "execution_count": null,
      "outputs": []
    },
    {
      "cell_type": "code",
      "metadata": {
        "id": "eAIdno7sBbrx"
      },
      "source": [
        "#@title\n",
        "count = 1\n",
        "def butwhatif(str1, str2):\n",
        "    if str1 == \"(None entered)\" or str2 == \"(None entered)\":\n",
        "        return(\"\")\n",
        "    if str1.strip() == str2.strip():\n",
        "        return(\"\")\n",
        "    else:\n",
        "        return(count, str1, str2)"
      ],
      "execution_count": null,
      "outputs": []
    },
    {
      "cell_type": "code",
      "metadata": {
        "colab": {
          "base_uri": "https://localhost:8080/"
        },
        "id": "o5wGbWNKBVRW",
        "outputId": "16256fb7-2adb-482f-b684-e01682568616"
      },
      "source": [
        "#@title\n",
        "reader = csv.DictReader(UploadFile(), delimiter='\\t')\n",
        "count = 1\n",
        "#========\n",
        "for row in reader:\n",
        "    count += 1\n",
        "    str1 = row[\"Agreement Date-Answer (mm/dd/year)\"]\n",
        "    str2 = row[\"Effective Date-Answer (mm/dd/year)\"]\n",
        "    \n",
        "    if str1 == \"(None entered)\" or str2 == \"(None entered)\":\n",
        "        placer = 1\n",
        "    else:\n",
        "        if str1.strip() == str2.strip():\n",
        "            placer = 1\n",
        "        else:\n",
        "            print(count, str1, str2)"
      ],
      "execution_count": null,
      "outputs": [
        {
          "output_type": "stream",
          "text": [
            "13 06/12/2019 09/02/2019\n",
            "14 11/05/2019 10/31/2019\n",
            "24 11/17/2015 01/01/2016\n",
            "29 12/02/2008 12/03/2008\n",
            "36 05/03/2016 05/11/2016\n",
            "47 01/10/2020 05/01/2020\n",
            "66 11/27/2017 04/01/2018\n",
            "70 03/22/2018 03/15/2018\n",
            "73 01/10/2020 01/01/2019\n",
            "80 12/14/2015 11/01/2016\n",
            "86 06/30/1999 09/01/1999\n",
            "99 03/14/2011 []/[]/[]\n",
            "103 01/28/2005 10/15/2004\n",
            "106 03/14/2012 03/01/2012\n",
            "108 10/30/2017 11/01/2017\n",
            "109 []/[]/2013 01/01/2013\n",
            "122 11/20/19 11/20/2019\n",
            "134 03/24/2006 04/01/2006\n",
            "142 12/15/2001 05/18/2000\n",
            "171 07/20/2018 07/01/2018\n",
            "177 06/01/2020 07/01/2020\n",
            "181 06/01/2020 07/01/2020\n",
            "182 04/06/1999 04/01/1999\n",
            "184 03/01/05 03/01/2005\n",
            "191 04/27/2006 04/01/2006\n",
            "193 01/31/1994 12/10/1993\n",
            "194 10/01/2019 11/01/2019\n",
            "201 05/25/2008 05/25/2018\n",
            "207 10/01/2019 01/27/2020\n",
            "213 02/05/2020; 03/26/2020 02/05/2020\n",
            "220 12/05/2007 01/01/2008\n",
            "233 07/12/1999 07/19/1999\n",
            "240 11/07/2004 11/01/2004\n",
            "243 12/29/2005 01/01/2006\n",
            "244 03/01/1996 05/30/1996\n",
            "262 05/05/1998 06/01/1998\n",
            "264 11/28/2001 12/01/2001\n",
            "277 03/04/2011 03/03/2011\n",
            "310 03/12/1999 06/01/1999\n",
            "327 03/18/2003 03/03/2003\n",
            "343 01/26/1998 02/01/1998\n",
            "355 06/26/2015 06/25/2015\n",
            "375 12/27/2011 01/01/2012\n",
            "377 03/20/2020 03/01/2020\n",
            "382 12/01/2004 12/01/2004; 01/01/2005\n",
            "414 10/24/2011 10/10/2011\n",
            "425 04/[]/2013 05/01/2013\n",
            "467 07/07/1998 07/01/1998\n",
            "469 04/18/2003 04/17/2003\n",
            "473 08/16/90 []/[]/[]\n",
            "484 07/31/2006 09/25/2006\n",
            "490 03/01/2007 12/18/2004\n",
            "496 02/11/1998 04/13/1998\n",
            "497 01/13/2005 09/01/2004\n",
            "499 08/24/1995 08/01/1995\n",
            "501 07/15/2003 01/01/2004\n",
            "502 10/21/2009 10/26/2009\n",
            "537 01/14/2002 01/15/2002\n",
            "561 12/22/2017 12/21/2017\n",
            "564 06/22/2018 04/01/2018\n",
            "571 04/20/2016 04/18/2016\n",
            "572 04/23/2018 04/22/2018\n",
            "584 10/13/2005 10/16/2005\n",
            "591 09/10/1999 9/10/1999\n",
            "594 03/01/1998 03/05/1998\n",
            "595 11/24/2006 08/16/2007\n",
            "598 09/19/2008 02/13/2007\n",
            "600 10/09/2001 10/01/2001\n",
            "606 08/31/2017 09/30/1998\n",
            "611 10/15/2009 08/10/2007\n",
            "619 04/14/2000 04/22/2000\n",
            "623 03/21/2008 11/01/2007\n",
            "634 11/06/2008 11/01/2008\n",
            "637 01/26/2015 01/21/2015\n",
            "641 07/20/2015 08/01/2015\n",
            "665 03/02/2018 03/01/2018\n",
            "671 08/01/2008 11/01/2008\n",
            "673 07/18/2011 7/05/2011\n",
            "674 03/20/1998 01/01/1998\n",
            "677 11/05/1996 03/01/1996\n",
            "683 10/13/1999 01/01/2000\n"
          ],
          "name": "stdout"
        }
      ]
    }
  ]
}